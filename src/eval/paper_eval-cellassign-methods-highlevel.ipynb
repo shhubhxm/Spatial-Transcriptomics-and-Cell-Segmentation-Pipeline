{
 "cells": [
  {
   "cell_type": "code",
   "execution_count": null,
   "id": "8cd6edbb-e2e7-4474-9b6c-05203f97e7dc",
   "metadata": {},
   "outputs": [],
   "source": [
    "# !pip install shapely\n",
    "# !pip install plotly\n",
    "!pip install geopandas"
   ]
  },
  {
   "cell_type": "code",
   "execution_count": 1,
   "id": "74ee8420-da7a-4d00-91d9-e4273e83d21f",
   "metadata": {},
   "outputs": [],
   "source": [
    "from shapely.geometry import shape\n",
    "import plotly.express as px\n",
    "import geopandas as gpd\n",
    "import json\n",
    "from shapely.geometry import Polygon, Point\n",
    "from shapely import wkt\n",
    "import pandas as pd\n",
    "from sklearn.metrics import precision_recall_fscore_support, accuracy_score\n",
    "from sklearn.metrics import confusion_matrix, ConfusionMatrixDisplay\n",
    "import os"
   ]
  },
  {
   "cell_type": "code",
   "execution_count": 15,
   "id": "6f641cb0-1d6a-4cfb-bc35-2fa58302b28f",
   "metadata": {},
   "outputs": [],
   "source": [
    "# geojson_path = \"/home/oneai/oneai-dda-spatialtr-visiumhd_analysis/cache/Visium_HD_Human_Colon_Cancer-wsi-40598_0_65263_22706-landmarks.geojson\"\n",
    "geojson_path = \"/home/oneai/oneai-dda-spatialtr-visiumhd_analysis/cache/Visium_HD_Mouse_Small_Intestine-wsi-156_4_23459_24009_all_for_one.geojson\"\n",
    "\n",
    "segmentation_df_path = \"/home/oneai/oneai-dda-spatialtr-visiumhd_analysis/cache/predictions/stardist_cells_df.csv\"\n",
    "results_eval_dir = \"/home/oneai/oneai-dda-spatialtr-visiumhd_analysis/cache/mouse_anatomical_landmark_eval\"\n",
    "os.makedirs(results_eval_dir, exist_ok=True)\n",
    "# predictions_df_path = \"/home/oneai/oneai-dda-spatialtr-visiumhd_analysis/cache/predictions/Sargent+naive.csv\"\n",
    "# predictions_df_path = \"/home/oneai/oneai-dda-spatialtr-visiumhd_analysis/cache/predictions/Sargent+weighted.csv\"\n",
    "# predictions_df_path = \"/home/oneai/oneai-dda-spatialtr-visiumhd_analysis/cache/predictions/cellassign+weighted.csv\"\n",
    "# predictions_df_path = \"/home/oneai/oneai-dda-spatialtr-visiumhd_analysis/cache/predictions/cellassign+naive.csv\"\n",
    "# predictions_df_path = \"/home/oneai/oneai-dda-spatialtr-visiumhd_analysis/cache/predictions/Sargent+weighted-full.csv\"\n",
    "predictions_df_path = \"/home/oneai/oneai-dda-spatialtr-visiumhd_analysis/cache/predictions/sargent+weighted+mouse.csv\"\n",
    "\n",
    "\n",
    "method = predictions_df_path.split(\"/\")[-1].split(\".\")[0]\n",
    "\n",
    "segmentation_df = pd.read_csv(segmentation_df_path)\n",
    "predictions_df = pd.read_csv(predictions_df_path)\n",
    "predictions_df = predictions_df.merge(segmentation_df[[\"id\", \"geometry\"]], how=\"left\", on=\"id\")\n",
    "predictions_df = predictions_df[~predictions_df.geometry.isna()]\n",
    "try:\n",
    "    predictions_df[\"geometry\"] = predictions_df[\"geometry\"].apply(wkt.loads)\n",
    "except:\n",
    "    pass\n",
    "pred_gpd = gpd.GeoDataFrame(predictions_df,geometry=\"geometry\")"
   ]
  },
  {
   "cell_type": "code",
   "execution_count": 16,
   "id": "9d745a36-0221-450f-9c35-b5c099a8d189",
   "metadata": {},
   "outputs": [],
   "source": [
    "annotation_names = []\n",
    "annotation_geometries = []\n",
    "with open(geojson_path) as f:\n",
    "    regions = json.load(f)\n",
    "for region in regions[\"features\"]:\n",
    "    ann_type = region[\"properties\"][\"objectType\"]\n",
    "    if ann_type == \"annotation\":\n",
    "        annotation_name = region[\"properties\"][\"classification\"][\"name\"]\n",
    "        if annotation_name in [\"Region*\"]:\n",
    "            continue\n",
    "        annotation_geometries.append(shape(region[\"geometry\"]))\n",
    "        annotation_names.append(annotation_name)\n",
    "annotations_gpd = gpd.GeoDataFrame({\"geometry\": annotation_geometries, \"label\": annotation_names})\n",
    "annotations_gpd[\"ann_ix\"] = [f\"ID_{i}\" for i in range(len(annotations_gpd))]\n",
    "cells_within_ann_gpd = gpd.sjoin(pred_gpd[[\"cell_type\", \"cell_x\", \"cell_y\", \"geometry\", \"id\"]], annotations_gpd, how='left', predicate='within')\n",
    "cells_within_ann_gpd = cells_within_ann_gpd.drop_duplicates(subset=[\"id\"])"
   ]
  },
  {
   "cell_type": "code",
   "execution_count": null,
   "id": "099d30dc-a404-4662-8fec-7b0275079e42",
   "metadata": {},
   "outputs": [],
   "source": [
    "for annotation_name in annotation_names:\n",
    "    df = cells_within_ann_gpd[cells_within_ann_gpd.label == annotation_name]\n",
    "    # df = df[~(df.cell_type == \"unclassified\")]\n",
    "    df = df.groupby([\"cell_type\"]).agg(\"count\").reset_index()\n",
    "    df = df.sort_values(\"id\", ascending=False)\n",
    "    fig = px.bar(df, x='cell_type', y='id', title=f\"Region: {annotation_name}\")\n",
    "    fig.update_layout(\n",
    "        xaxis_title=\"cell type\", yaxis_title=\"# cells\"\n",
    "    )\n",
    "    fig.show()\n",
    "    fig.write_html(os.path.join(results_eval_dir, f\"{method}_{annotation_name}_cell_counts.html\"))"
   ]
  },
  {
   "cell_type": "code",
   "execution_count": null,
   "id": "f7a3204e-89bd-4e6b-b14a-ea98a8fe9f5d",
   "metadata": {},
   "outputs": [],
   "source": [
    "results_eval_dir"
   ]
  },
  {
   "cell_type": "code",
   "execution_count": null,
   "id": "159a4cc2-32a4-49d9-9a87-f186a0d255de",
   "metadata": {},
   "outputs": [],
   "source": []
  }
 ],
 "metadata": {
  "kernelspec": {
   "display_name": "Python 3 (ipykernel)",
   "language": "python",
   "name": "python3"
  },
  "language_info": {
   "codemirror_mode": {
    "name": "ipython",
    "version": 3
   },
   "file_extension": ".py",
   "mimetype": "text/x-python",
   "name": "python",
   "nbconvert_exporter": "python",
   "pygments_lexer": "ipython3",
   "version": "3.10.14"
  }
 },
 "nbformat": 4,
 "nbformat_minor": 5
}
